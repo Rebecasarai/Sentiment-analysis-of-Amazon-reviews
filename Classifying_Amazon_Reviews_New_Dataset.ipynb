{
  "nbformat": 4,
  "nbformat_minor": 0,
  "metadata": {
    "colab": {
      "name": "Classifying_Amazon_Reviews_New_Dataset.ipynb",
      "provenance": [],
      "collapsed_sections": []
    },
    "kernelspec": {
      "name": "python3",
      "display_name": "Python 3"
    },
    "language_info": {
      "name": "python"
    },
    "accelerator": "GPU"
  },
  "cells": [
    {
      "cell_type": "markdown",
      "metadata": {
        "id": "xpG4fBVjY1hN"
      },
      "source": [
        "# Loading the data"
      ]
    },
    {
      "cell_type": "code",
      "metadata": {
        "colab": {
          "base_uri": "https://localhost:8080/"
        },
        "id": "cbIgryLL4Ytx",
        "outputId": "960bb422-a1f3-427d-bdc4-d31faf05ca7c"
      },
      "source": [
        "import numpy as np\n",
        "import pandas as pd\n",
        "import torch\n",
        "import torch.nn as nn\n",
        "import torch.nn.functional as F\n",
        "from torch.utils.data import TensorDataset, DataLoader\n",
        "\n",
        "import string\n",
        "import bz2\n",
        "import re\n",
        "from collections import Counter\n",
        "import nltk\n",
        "from keras.preprocessing.sequence import pad_sequences\n",
        "from nltk.corpus import stopwords\n",
        "nltk.download('stopwords')\n",
        "\n",
        "import matplotlib.pyplot as plt\n",
        "import seaborn as sns\n",
        "\n",
        "from sklearn.model_selection import train_test_split\n",
        "from sklearn.metrics import f1_score, roc_auc_score, accuracy_score, classification_report\n",
        "from sklearn.metrics import confusion_matrix\n",
        "\n",
        "from tqdm import tqdm"
      ],
      "execution_count": 114,
      "outputs": [
        {
          "output_type": "stream",
          "text": [
            "[nltk_data] Downloading package stopwords to /root/nltk_data...\n",
            "[nltk_data]   Package stopwords is already up-to-date!\n"
          ],
          "name": "stdout"
        }
      ]
    },
    {
      "cell_type": "code",
      "metadata": {
        "colab": {
          "base_uri": "https://localhost:8080/"
        },
        "id": "bRzJJsDX5bVZ",
        "outputId": "6b3eeec5-112f-40c1-9fa0-62fd87487138"
      },
      "source": [
        "# load files\n",
        "from google.colab import drive\n",
        "drive.mount('/content/drive')"
      ],
      "execution_count": 2,
      "outputs": [
        {
          "output_type": "stream",
          "text": [
            "Mounted at /content/drive\n"
          ],
          "name": "stdout"
        }
      ]
    },
    {
      "cell_type": "code",
      "metadata": {
        "colab": {
          "base_uri": "https://localhost:8080/"
        },
        "id": "FoL7uCNh7Fw5",
        "outputId": "b9735235-7da7-42be-dcf0-d303683303f4"
      },
      "source": [
        "data = bz2.BZ2File(\"/content/drive/MyDrive/python homework/test.ft.txt.bz2\")\n",
        "data = data.readlines()\n",
        "print(\"Number of  reviews: \" + str(len(data)))"
      ],
      "execution_count": 3,
      "outputs": [
        {
          "output_type": "stream",
          "text": [
            "Number of  reviews: 400000\n"
          ],
          "name": "stdout"
        }
      ]
    },
    {
      "cell_type": "code",
      "metadata": {
        "colab": {
          "base_uri": "https://localhost:8080/"
        },
        "id": "4bv_qGgZ8TVD",
        "outputId": "f6d48929-6971-429e-ac4e-cb28ecf895e3"
      },
      "source": [
        "sample_size = 200000 #Using 200,000 reviews from test set\n",
        "data = [x.decode('utf-8') for x in data[:sample_size]]\n",
        "print(data[0])"
      ],
      "execution_count": 4,
      "outputs": [
        {
          "output_type": "stream",
          "text": [
            "__label__2 Great CD: My lovely Pat has one of the GREAT voices of her generation. I have listened to this CD for YEARS and I still LOVE IT. When I'm in a good mood it makes me feel better. A bad mood just evaporates like sugar in the rain. This CD just oozes LIFE. Vocals are jusat STUUNNING and lyrics just kill. One of life's hidden gems. This is a desert isle CD in my book. Why she never made it big is just beyond me. Everytime I play this, no matter black, white, young, old, male, female EVERYBODY says one thing \"Who was that singing ?\"\n",
            "\n"
          ],
          "name": "stdout"
        }
      ]
    },
    {
      "cell_type": "markdown",
      "metadata": {
        "id": "lMUab-WcY7J_"
      },
      "source": [
        "# Exploring and processing the data"
      ]
    },
    {
      "cell_type": "markdown",
      "metadata": {
        "id": "BRxdf9QuZXpT"
      },
      "source": [
        "## Cleaning the data"
      ]
    },
    {
      "cell_type": "markdown",
      "metadata": {
        "id": "LcYiRoz--qGD"
      },
      "source": [
        "__label__2 is positive and __label__1 is negative"
      ]
    },
    {
      "cell_type": "code",
      "metadata": {
        "id": "8JvhZFQr-K08"
      },
      "source": [
        "df = pd.DataFrame({'text':data})\n",
        "df['target'] = df.text.apply(lambda x: 1 if '__label__2' in x.split() else 0)\n",
        "# clean target from text\n",
        "df['text'] = df.text.apply(lambda x: re.sub(r'__label__\\d','',x).strip())\n",
        "# turn urls into a <url> token\n",
        "df['text'] = df.text.apply(lambda x: re.sub(r'([^ ]+(?<=\\.[a-z]{3}))', '<url>',x))"
      ],
      "execution_count": 5,
      "outputs": []
    },
    {
      "cell_type": "code",
      "metadata": {
        "colab": {
          "base_uri": "https://localhost:8080/"
        },
        "id": "nE11kA6Z6t9Y",
        "outputId": "8cfec8b4-e9a8-45c8-a155-ef5ab941ca79"
      },
      "source": [
        "# Too many positives so unbalanced dataset\n",
        "df.value_counts('target')"
      ],
      "execution_count": 6,
      "outputs": [
        {
          "output_type": "execute_result",
          "data": {
            "text/plain": [
              "target\n",
              "1    100565\n",
              "0     99435\n",
              "dtype: int64"
            ]
          },
          "metadata": {
            "tags": []
          },
          "execution_count": 6
        }
      ]
    },
    {
      "cell_type": "code",
      "metadata": {
        "id": "dh-b_-gN7TUA"
      },
      "source": [
        "# Let's balance it by gettign as many positives as there are negatives\n",
        "df_negatives = df[df.target == 0]\n",
        "df_positives = df[df.target == 1].sample(df_negatives.shape[0], random_state = 1)\n",
        "df_balanced = pd.concat([df_negatives, df_positives])"
      ],
      "execution_count": 7,
      "outputs": []
    },
    {
      "cell_type": "code",
      "metadata": {
        "colab": {
          "base_uri": "https://localhost:8080/"
        },
        "id": "a8lPCVgI77M1",
        "outputId": "78fb8dae-4937-464c-b3df-f55e89e5cd4b"
      },
      "source": [
        "df_balanced.value_counts('target')"
      ],
      "execution_count": 8,
      "outputs": [
        {
          "output_type": "execute_result",
          "data": {
            "text/plain": [
              "target\n",
              "1    99435\n",
              "0    99435\n",
              "dtype: int64"
            ]
          },
          "metadata": {
            "tags": []
          },
          "execution_count": 8
        }
      ]
    },
    {
      "cell_type": "markdown",
      "metadata": {
        "id": "BZmpS4Ep-NbQ"
      },
      "source": [
        "## How are review text sizes distributed?"
      ]
    },
    {
      "cell_type": "code",
      "metadata": {
        "colab": {
          "base_uri": "https://localhost:8080/",
          "height": 676
        },
        "id": "_VWQ3sDy-KHI",
        "outputId": "a147eb00-85d7-4c88-d294-7fe21bc98d89"
      },
      "source": [
        "plt.figure(figsize=(15,10))\n",
        "sns.boxplot(df_balanced.text.apply(lambda x: len(x.split())))"
      ],
      "execution_count": 9,
      "outputs": [
        {
          "output_type": "stream",
          "text": [
            "/usr/local/lib/python3.7/dist-packages/seaborn/_decorators.py:43: FutureWarning: Pass the following variable as a keyword arg: x. From version 0.12, the only valid positional argument will be `data`, and passing other arguments without an explicit keyword will result in an error or misinterpretation.\n",
            "  FutureWarning\n"
          ],
          "name": "stderr"
        },
        {
          "output_type": "execute_result",
          "data": {
            "text/plain": [
              "<matplotlib.axes._subplots.AxesSubplot at 0x7f47f5a78e10>"
            ]
          },
          "metadata": {
            "tags": []
          },
          "execution_count": 9
        },
        {
          "output_type": "display_data",
          "data": {
            "image/png": "[encoded data removed]",
            "text/plain": [
              "<Figure size 1080x720 with 1 Axes>"
            ]
          },
          "metadata": {
            "tags": [],
            "needs_background": "light"
          }
        }
      ]
    },
    {
      "cell_type": "markdown",
      "metadata": {
        "id": "3T50ow228Vco"
      },
      "source": [
        "Okay, now we are ready to pre-process this text so that we can use it in our LSTM network."
      ]
    },
    {
      "cell_type": "code",
      "metadata": {
        "id": "97e4_rxj8Ra_"
      },
      "source": [
        "STOP_WORDS = set(stopwords.words('english')) \n",
        "\n",
        "# TODO improve with more filters\n",
        "def preprocess_text(raw_text):\n",
        "      global STOP_WORDS\n",
        "      word_list = []\n",
        "      for word in raw_text.lower().strip().split():\n",
        "            word = re.sub(r'\\d', '', word) # removes digits\n",
        "            word = re.sub(r\"[^\\w\\s]\", '', word) # removes all non word chars\n",
        "            if word not in STOP_WORDS and word != '':\n",
        "                word_list.append(word)\n",
        "\n",
        "      return ' '.join(word_list)\n",
        "\n",
        "df_balanced['cleaned_text'] = df_balanced.text.apply(lambda x: preprocess_text(x))"
      ],
      "execution_count": 10,
      "outputs": []
    },
    {
      "cell_type": "code",
      "metadata": {
        "colab": {
          "base_uri": "https://localhost:8080/",
          "height": 196
        },
        "id": "2l4RXpAY9woQ",
        "outputId": "40431ed6-bb61-4cf7-d780-065d6acb3aa2"
      },
      "source": [
        "df_balanced.head()"
      ],
      "execution_count": 11,
      "outputs": [
        {
          "output_type": "execute_result",
          "data": {
            "text/html": [
              "<div>\n",
              "<style scoped>\n",
              "    .dataframe tbody tr th:only-of-type {\n",
              "        vertical-align: middle;\n",
              "    }\n",
              "\n",
              "    .dataframe tbody tr th {\n",
              "        vertical-align: top;\n",
              "    }\n",
              "\n",
              "    .dataframe thead th {\n",
              "        text-align: right;\n",
              "    }\n",
              "</style>\n",
              "<table border=\"1\" class=\"dataframe\">\n",
              "  <thead>\n",
              "    <tr style=\"text-align: right;\">\n",
              "      <th></th>\n",
              "      <th>text</th>\n",
              "      <th>target</th>\n",
              "      <th>cleaned_text</th>\n",
              "    </tr>\n",
              "  </thead>\n",
              "  <tbody>\n",
              "    <tr>\n",
              "      <th>2</th>\n",
              "      <td>Batteries died within a year ...: I bought thi...</td>\n",
              "      <td>0</td>\n",
              "      <td>batteries died within year bought charger jul ...</td>\n",
              "    </tr>\n",
              "    <tr>\n",
              "      <th>5</th>\n",
              "      <td>DVD Player crapped out after one year: I also ...</td>\n",
              "      <td>0</td>\n",
              "      <td>dvd player crapped one year also began incorre...</td>\n",
              "    </tr>\n",
              "    <tr>\n",
              "      <th>6</th>\n",
              "      <td>Incorrect Disc: I love the style of this, but ...</td>\n",
              "      <td>0</td>\n",
              "      <td>incorrect disc love style couple years dvd giv...</td>\n",
              "    </tr>\n",
              "    <tr>\n",
              "      <th>7</th>\n",
              "      <td>DVD menu select problems: I cannot scroll thro...</td>\n",
              "      <td>0</td>\n",
              "      <td>dvd menu select problems cannot scroll dvd men...</td>\n",
              "    </tr>\n",
              "    <tr>\n",
              "      <th>9</th>\n",
              "      <td>Not an \"ultimate guide\": Firstly,I enjoyed the...</td>\n",
              "      <td>0</td>\n",
              "      <td>ultimate guide firstlyi enjoyed format tone bo...</td>\n",
              "    </tr>\n",
              "  </tbody>\n",
              "</table>\n",
              "</div>"
            ],
            "text/plain": [
              "                                                text  ...                                       cleaned_text\n",
              "2  Batteries died within a year ...: I bought thi...  ...  batteries died within year bought charger jul ...\n",
              "5  DVD Player crapped out after one year: I also ...  ...  dvd player crapped one year also began incorre...\n",
              "6  Incorrect Disc: I love the style of this, but ...  ...  incorrect disc love style couple years dvd giv...\n",
              "7  DVD menu select problems: I cannot scroll thro...  ...  dvd menu select problems cannot scroll dvd men...\n",
              "9  Not an \"ultimate guide\": Firstly,I enjoyed the...  ...  ultimate guide firstlyi enjoyed format tone bo...\n",
              "\n",
              "[5 rows x 3 columns]"
            ]
          },
          "metadata": {
            "tags": []
          },
          "execution_count": 11
        }
      ]
    },
    {
      "cell_type": "markdown",
      "metadata": {
        "id": "_uQBzWkQ-40x"
      },
      "source": [
        "We check distribution"
      ]
    },
    {
      "cell_type": "code",
      "metadata": {
        "colab": {
          "base_uri": "https://localhost:8080/",
          "height": 676
        },
        "id": "YgFQ9e2e95fn",
        "outputId": "63de7911-1ecf-4cc3-c009-6a451e156ee6"
      },
      "source": [
        "plt.figure(figsize=(15,10))\n",
        "sns.boxplot(df_balanced.cleaned_text.apply(lambda x: len(x.split())))"
      ],
      "execution_count": 12,
      "outputs": [
        {
          "output_type": "stream",
          "text": [
            "/usr/local/lib/python3.7/dist-packages/seaborn/_decorators.py:43: FutureWarning: Pass the following variable as a keyword arg: x. From version 0.12, the only valid positional argument will be `data`, and passing other arguments without an explicit keyword will result in an error or misinterpretation.\n",
            "  FutureWarning\n"
          ],
          "name": "stderr"
        },
        {
          "output_type": "execute_result",
          "data": {
            "text/plain": [
              "<matplotlib.axes._subplots.AxesSubplot at 0x7f47f9f9ebd0>"
            ]
          },
          "metadata": {
            "tags": []
          },
          "execution_count": 12
        },
        {
          "output_type": "display_data",
          "data": {
            "image/png": "[encoded data removed]",
            "text/plain": [
              "<Figure size 1080x720 with 1 Axes>"
            ]
          },
          "metadata": {
            "tags": [],
            "needs_background": "light"
          }
        }
      ]
    },
    {
      "cell_type": "code",
      "metadata": {
        "colab": {
          "base_uri": "https://localhost:8080/"
        },
        "id": "elZFLiSl-pr3",
        "outputId": "cb96dbcd-a81d-4a6e-d1af-3f825be07984"
      },
      "source": [
        "df_balanced.cleaned_text.apply(lambda x: len(x.split())).describe()"
      ],
      "execution_count": 13,
      "outputs": [
        {
          "output_type": "execute_result",
          "data": {
            "text/plain": [
              "count    198870.000000\n",
              "mean         40.472972\n",
              "std          21.956238\n",
              "min           4.000000\n",
              "25%          22.000000\n",
              "50%          36.000000\n",
              "75%          55.000000\n",
              "max         157.000000\n",
              "Name: cleaned_text, dtype: float64"
            ]
          },
          "metadata": {
            "tags": []
          },
          "execution_count": 13
        }
      ]
    },
    {
      "cell_type": "markdown",
      "metadata": {
        "id": "EMZ_BYyKZNC5"
      },
      "source": [
        "## Creating vocab"
      ]
    },
    {
      "cell_type": "markdown",
      "metadata": {
        "id": "0FTKCL8Z-744"
      },
      "source": [
        "Now that we already have the cleaned text we can go ahead and create a dictionary, so that we can use words as numbers."
      ]
    },
    {
      "cell_type": "code",
      "metadata": {
        "id": "n6XweqdFAEgf"
      },
      "source": [
        "all_words = [ w for s in df_balanced.cleaned_text.values.tolist() for w in s.split()]\n",
        "words = Counter(all_words)"
      ],
      "execution_count": 14,
      "outputs": []
    },
    {
      "cell_type": "markdown",
      "metadata": {
        "id": "nA9ECPbmBZWI"
      },
      "source": [
        "There seems to be many positive words, maybe classifier learn by lack of positive words or by a couple negative but at first glance it looks challenging."
      ]
    },
    {
      "cell_type": "code",
      "metadata": {
        "colab": {
          "base_uri": "https://localhost:8080/"
        },
        "id": "0S4xhni1_-0P",
        "outputId": "5511abe9-b413-4d09-e906-55e37c70d200"
      },
      "source": [
        "words.most_common(30)"
      ],
      "execution_count": 15,
      "outputs": [
        {
          "output_type": "execute_result",
          "data": {
            "text/plain": [
              "[('book', 107613),\n",
              " ('one', 74654),\n",
              " ('like', 58147),\n",
              " ('great', 57939),\n",
              " ('good', 56904),\n",
              " ('would', 45172),\n",
              " ('movie', 42563),\n",
              " ('read', 40128),\n",
              " ('get', 37120),\n",
              " ('time', 36364),\n",
              " ('dont', 34892),\n",
              " ('really', 32485),\n",
              " ('first', 28232),\n",
              " ('even', 27980),\n",
              " ('much', 27850),\n",
              " ('well', 27684),\n",
              " ('love', 26349),\n",
              " ('best', 24150),\n",
              " ('album', 23528),\n",
              " ('buy', 23493),\n",
              " ('cd', 23301),\n",
              " ('better', 22642),\n",
              " ('story', 21102),\n",
              " ('product', 21044),\n",
              " ('could', 20568),\n",
              " ('work', 20135),\n",
              " ('also', 20049),\n",
              " ('use', 20038),\n",
              " ('new', 19375),\n",
              " ('way', 19171)]"
            ]
          },
          "metadata": {
            "tags": []
          },
          "execution_count": 15
        }
      ]
    },
    {
      "cell_type": "code",
      "metadata": {
        "id": "JySXi1tnAAOv"
      },
      "source": [
        "words = {k:v for k,v in words.items() if v > 1}\n",
        "# Sorting on the basis of most common words\n",
        "words = sorted(words, key = words.get, reverse = True)\n",
        "words = ['_PAD', '_UNK'] + words\n",
        "\n",
        "# Creating a dict\n",
        "word_to_idx = { w : i for i,w in enumerate(words) }\n",
        "idx_to_word = {v : k for k,v in word_to_idx.items()}"
      ],
      "execution_count": 16,
      "outputs": []
    },
    {
      "cell_type": "code",
      "metadata": {
        "id": "1u0T_J6fCQk0"
      },
      "source": [
        "def process_sequence(text_sequence):\n",
        "  global word_to_idx\n",
        "  res = []\n",
        "  for w in text_sequence:\n",
        "    if w in word_to_idx:\n",
        "      res.append(word_to_idx[w])\n",
        "    else:\n",
        "      res.append(1)\n",
        "  return res"
      ],
      "execution_count": 17,
      "outputs": []
    },
    {
      "cell_type": "markdown",
      "metadata": {
        "id": "hbQ562ieZi3M"
      },
      "source": [
        "# Adding padding (Important note)"
      ]
    },
    {
      "cell_type": "markdown",
      "metadata": {
        "id": "Hijb5ydPC1ug"
      },
      "source": [
        "We are ready to created the training set:"
      ]
    },
    {
      "cell_type": "code",
      "metadata": {
        "id": "tyW0BaTfCRKO"
      },
      "source": [
        "X = [process_sequence(s.split()) for s in df_balanced.cleaned_text.values.tolist()]\n",
        "y = df_balanced.target.values.tolist()\n",
        "\n",
        "X_train, X_test, y_train, y_test = train_test_split(X, y, random_state = 1)"
      ],
      "execution_count": 18,
      "outputs": []
    },
    {
      "cell_type": "code",
      "metadata": {
        "id": "oCFTX7VyDPGP"
      },
      "source": [
        "# we get the longest sequences for train and we use this to pad both train and test\n",
        "MAX_LEN = max([len(s) for s in  X_train])\n",
        "\n",
        "\n",
        "'''\n",
        "*What I learned:*\n",
        "Commonly in RNN's, we take the final output or hidden state and use this to make a prediction (or do whatever task we are trying to do).\n",
        "If we send a bunch of 0's to the RNN before taking the final output (i.e. 'post' padding as you describe), \n",
        "then the hidden state of the network at the final word in the sentence would likely get 'flushed out' to some extent by all the zero inputs that come after this word.\n",
        "So intuitively, this might be why pre-padding is more popular/effective.\n",
        "'''\n",
        "\n",
        "X_train = pad_sequences(X_train, maxlen = MAX_LEN, padding = 'pre')\n",
        "X_test = pad_sequences(X_test, maxlen = MAX_LEN, padding = 'pre')\n",
        "y_train = np.array(y_train)\n",
        "y_test = np.array(y_test)"
      ],
      "execution_count": 19,
      "outputs": []
    },
    {
      "cell_type": "code",
      "metadata": {
        "id": "WUQW8DiyLct9"
      },
      "source": [
        "train_data = TensorDataset(torch.from_numpy(X_train), torch.from_numpy(y_train))\n",
        "test_data = TensorDataset(torch.from_numpy(X_test), torch.from_numpy(y_test))"
      ],
      "execution_count": 20,
      "outputs": []
    },
    {
      "cell_type": "code",
      "metadata": {
        "id": "2uqJbO6VMRf9"
      },
      "source": [
        "batch_size = 512\n",
        "\n",
        "train_loader = DataLoader(train_data, shuffle = True, batch_size = batch_size, drop_last = True)\n",
        "test_loader = DataLoader(test_data, shuffle = True, batch_size = batch_size, drop_last = True)"
      ],
      "execution_count": 21,
      "outputs": []
    },
    {
      "cell_type": "markdown",
      "metadata": {
        "id": "2fzkZp6nZ6iP"
      },
      "source": [
        "# The model"
      ]
    },
    {
      "cell_type": "markdown",
      "metadata": {
        "id": "ZxIQEpBUFpen"
      },
      "source": [
        "So now we can go ahead and create and use our model!\n",
        "\n",
        "We use some hyperparameters such as the vocab size, the hidden layer dimension, the number of layers and the dropout probability."
      ]
    },
    {
      "cell_type": "code",
      "metadata": {
        "id": "XHav29mcFbC2"
      },
      "source": [
        "class SentimentLSTM(nn.Module):\n",
        "    def __init__(self, vocab_size, output_size, embedding_dim, hidden_dim, n_layers, drop_prob = 0.5):\n",
        "        super(SentimentLSTM, self).__init__()\n",
        "        self.output_size = output_size\n",
        "        self.n_layers = n_layers\n",
        "        self.hidden_dim = hidden_dim\n",
        "        \n",
        "        self.embedding = nn.Embedding(vocab_size, embedding_dim)\n",
        "        self.lstm = nn.LSTM(embedding_dim, hidden_dim, n_layers, dropout=drop_prob, batch_first = True)\n",
        "        self.dropout = nn.Dropout(0.2)\n",
        "        self.fc = nn.Linear(hidden_dim, output_size) # fully connected\n",
        "        self.sigmoid = nn.Sigmoid()\n",
        "        \n",
        "    def forward(self, x, hidden):\n",
        "        batch_size = x.size(0)\n",
        "        x = x.long() # cast to long tensor\n",
        "        embeds = self.embedding(x)\n",
        "        lstm_out, hidden = self.lstm(embeds, hidden)\n",
        "        lstm_out = lstm_out.contiguous().view(-1, self.hidden_dim)\n",
        "        \n",
        "        out = self.dropout(lstm_out)\n",
        "        out = self.fc(out)\n",
        "        out = self.sigmoid(out)\n",
        "        \n",
        "        out = out.view(batch_size, -1)\n",
        "        out = out[:,-1]\n",
        "        return out, hidden\n",
        "    \n",
        "    def init_hidden(self, batch_size):\n",
        "        weight = next(self.parameters()).data\n",
        "        hidden = (weight.new(self.n_layers, batch_size, self.hidden_dim).zero_().to(device),\n",
        "                      weight.new(self.n_layers, batch_size, self.hidden_dim).zero_().to(device))\n",
        "        return hidden"
      ],
      "execution_count": 22,
      "outputs": []
    },
    {
      "cell_type": "code",
      "metadata": {
        "colab": {
          "base_uri": "https://localhost:8080/"
        },
        "id": "5VVMur4DKyBd",
        "outputId": "17cf8f50-0dbe-4a79-8d74-b1a0dedd925e"
      },
      "source": [
        "# torch.cuda.is_available() checks and returns a Boolean True if a GPU is available, else it'll return False\n",
        "is_cuda = torch.cuda.is_available()\n",
        "\n",
        "# If we have a GPU available, we'll set our device to GPU. We'll use this device variable later in our code.\n",
        "if is_cuda:\n",
        "    device = torch.device(\"cuda\")\n",
        "    print(\"GPU is available\")\n",
        "else:\n",
        "    device = torch.device(\"cpu\")\n",
        "    print(\"GPU not available, CPU used\")"
      ],
      "execution_count": 23,
      "outputs": [
        {
          "output_type": "stream",
          "text": [
            "GPU is available\n"
          ],
          "name": "stdout"
        }
      ]
    },
    {
      "cell_type": "code",
      "metadata": {
        "colab": {
          "base_uri": "https://localhost:8080/"
        },
        "id": "LVQKGp3fKX4a",
        "outputId": "632f5435-4d79-4566-baf6-ee45ce537f0c"
      },
      "source": [
        "vocab_size = len(word_to_idx) + 1\n",
        "output_size = 1\n",
        "embedding_dim = 400 # TODO: try 128 or 256\n",
        "hidden_dim = 512 # TODO: try 256\n",
        "n_layers = 2\n",
        "\n",
        "model = SentimentLSTM(vocab_size, output_size, embedding_dim, hidden_dim, n_layers)\n",
        "model.to(device)\n",
        "print(model)"
      ],
      "execution_count": 24,
      "outputs": [
        {
          "output_type": "stream",
          "text": [
            "SentimentLSTM(\n",
            "  (embedding): Embedding(98123, 400)\n",
            "  (lstm): LSTM(400, 512, num_layers=2, batch_first=True, dropout=0.5)\n",
            "  (dropout): Dropout(p=0.2, inplace=False)\n",
            "  (fc): Linear(in_features=512, out_features=1, bias=True)\n",
            "  (sigmoid): Sigmoid()\n",
            ")\n"
          ],
          "name": "stdout"
        }
      ]
    },
    {
      "cell_type": "code",
      "metadata": {
        "id": "g2busAtQK1Z1"
      },
      "source": [
        "lr = 0.005\n",
        "criterion = nn.BCELoss() # binary cross entropy loss\n",
        "optimizer = torch.optim.Adam(model.parameters(), lr = lr)"
      ],
      "execution_count": 25,
      "outputs": []
    },
    {
      "cell_type": "markdown",
      "metadata": {
        "id": "UO4X720FaA8f"
      },
      "source": [
        "## Training the model\n",
        "\n",
        "We save the best model based on the loss function, mean ing that it will take as the best model the one with the smallest value of test_losses. \n",
        "\n",
        "That could also mean that the best model might not have the highest accuracy score, although the difference is small.\n",
        "\n",
        "It will save the model as \"best_LSTM_model.pt\" in ghe shared drive folder.\n",
        "\n",
        "We reach 89% of accuracy with 2 epochs."
      ]
    },
    {
      "cell_type": "code",
      "metadata": {
        "id": "CKjCRXJKLKaP",
        "colab": {
          "base_uri": "https://localhost:8080/"
        },
        "outputId": "9438f2ea-c7a1-44eb-c8ff-761e4622fff8"
      },
      "source": [
        "epochs = 2\n",
        "counter = 0\n",
        "print_every = 50\n",
        "clip = 5\n",
        "test_loss_min = np.Inf\n",
        "\n",
        "model.train() # model set to training mode\n",
        "\n",
        "for i in range(epochs):\n",
        "    h = model.init_hidden(batch_size)\n",
        "    \n",
        "    for inputs, labels in train_loader:\n",
        "        counter += 1\n",
        "        inputs, labels = inputs.to(device), labels.to(device)\n",
        "        h = tuple([e.data for e in h])\n",
        "        model.zero_grad() # reset gradients \n",
        "        output, h = model(inputs, h) # forward propagation\n",
        "        loss = criterion(output.squeeze(), labels.float()) # compute loss\n",
        "        loss.backward() # backward propagation\n",
        "        nn.utils.clip_grad_norm_(model.parameters(), clip) # regularization by clipping gradient\n",
        "        optimizer.step() # apply gradients\n",
        "        \n",
        "        # METRICS:\n",
        "        if counter%print_every == 0:\n",
        "            test_h = model.init_hidden(batch_size)\n",
        "            test_losses = []\n",
        "            num_correct = 0\n",
        "            model.eval()\n",
        "            for inp, lab in test_loader:\n",
        "                test_h = tuple([each.data for each in test_h])\n",
        "                inp, lab = inp.to(device), lab.to(device)\n",
        "                out, test_h = model(inp, test_h)\n",
        "                test_loss = criterion(out.squeeze(), lab.float())\n",
        "                test_losses.append(test_loss.item())\n",
        "\n",
        "                # Compute acc\n",
        "                pred = torch.round(out.squeeze()) #rounds the output to 0/1\n",
        "                correct_tensor = pred.eq(lab.float().view_as(pred)) # calculate how many preds == labels\n",
        "                correct = np.squeeze(correct_tensor.cpu().numpy()) # like np.ravel\n",
        "                num_correct += np.sum(correct) # sums matches\n",
        "\n",
        "            print(\"Test loss: {:.3f}\".format(np.mean(test_losses)))\n",
        "            test_acc = num_correct/len(test_loader.dataset)\n",
        "            print(\"Test accuracy: {:.3f}%\".format(test_acc*100))\n",
        "\n",
        "                \n",
        "            model.train()\n",
        "            print(\"Epoch: {}/{}...\".format(i+1, epochs),\n",
        "                  \"Step: {}...\".format(counter),\n",
        "                  \"Loss: {:.6f}...\".format(loss.item()),\n",
        "                  \"Test Loss: {:.6f}\".format(np.mean(test_losses)))\n",
        "            if np.mean(test_losses) <= test_loss_min:\n",
        "                torch.save(model.state_dict(), '/content/drive/MyDrive/python homework/best_LSTM_model.pt')\n",
        "                print('Test loss decreased ({:.6f} --> {:.6f}).  Saving model ...'.format(test_loss_min, np.mean(test_losses)))\n",
        "                test_loss_min = np.mean(test_losses)"
      ],
      "execution_count": 26,
      "outputs": [
        {
          "output_type": "stream",
          "text": [
            "Test loss: 0.499\n",
            "Test accuracy: 76.447%\n",
            "Epoch: 1/2... Step: 50... Loss: 0.512610... Test Loss: 0.498585\n",
            "Test loss decreased (inf --> 0.498585).  Saving model ...\n",
            "Test loss: 0.419\n",
            "Test accuracy: 80.949%\n",
            "Epoch: 1/2... Step: 100... Loss: 0.382089... Test Loss: 0.419145\n",
            "Test loss decreased (0.498585 --> 0.419145).  Saving model ...\n",
            "Test loss: 0.320\n",
            "Test accuracy: 86.057%\n",
            "Epoch: 1/2... Step: 150... Loss: 0.300209... Test Loss: 0.320099\n",
            "Test loss decreased (0.419145 --> 0.320099).  Saving model ...\n",
            "Test loss: 0.296\n",
            "Test accuracy: 87.731%\n",
            "Epoch: 1/2... Step: 200... Loss: 0.296457... Test Loss: 0.296340\n",
            "Test loss decreased (0.320099 --> 0.296340).  Saving model ...\n",
            "Test loss: 0.275\n",
            "Test accuracy: 88.672%\n",
            "Epoch: 1/2... Step: 250... Loss: 0.301570... Test Loss: 0.275069\n",
            "Test loss decreased (0.296340 --> 0.275069).  Saving model ...\n",
            "Test loss: 0.274\n",
            "Test accuracy: 89.040%\n",
            "Epoch: 2/2... Step: 300... Loss: 0.200748... Test Loss: 0.274281\n",
            "Test loss decreased (0.275069 --> 0.274281).  Saving model ...\n",
            "Test loss: 0.268\n",
            "Test accuracy: 88.911%\n",
            "Epoch: 2/2... Step: 350... Loss: 0.184745... Test Loss: 0.268247\n",
            "Test loss decreased (0.274281 --> 0.268247).  Saving model ...\n",
            "Test loss: 0.278\n",
            "Test accuracy: 88.982%\n",
            "Epoch: 2/2... Step: 400... Loss: 0.239957... Test Loss: 0.277966\n",
            "Test loss: 0.266\n",
            "Test accuracy: 89.151%\n",
            "Epoch: 2/2... Step: 450... Loss: 0.247507... Test Loss: 0.266201\n",
            "Test loss decreased (0.268247 --> 0.266201).  Saving model ...\n",
            "Test loss: 0.266\n",
            "Test accuracy: 89.292%\n",
            "Epoch: 2/2... Step: 500... Loss: 0.193169... Test Loss: 0.266251\n",
            "Test loss: 0.256\n",
            "Test accuracy: 89.515%\n",
            "Epoch: 2/2... Step: 550... Loss: 0.246175... Test Loss: 0.256127\n",
            "Test loss decreased (0.266201 --> 0.256127).  Saving model ...\n"
          ],
          "name": "stdout"
        }
      ]
    },
    {
      "cell_type": "markdown",
      "metadata": {
        "id": "3sbsnpSgbBjj"
      },
      "source": [
        "# Testing the model and loading it from Drive\n",
        "\n",
        "we can load the best LSTM model previously trained and saved. "
      ]
    },
    {
      "cell_type": "code",
      "metadata": {
        "colab": {
          "base_uri": "https://localhost:8080/"
        },
        "id": "_6Lfy7SRRP0p",
        "outputId": "0a5148aa-fd42-48f9-a3cf-6a8b35d2a36c"
      },
      "source": [
        "model.load_state_dict(torch.load('/content/drive/MyDrive/python homework/best_LSTM_model.pt'))\n",
        "model.eval()\n",
        "print(model)"
      ],
      "execution_count": 27,
      "outputs": [
        {
          "output_type": "stream",
          "text": [
            "SentimentLSTM(\n",
            "  (embedding): Embedding(98123, 400)\n",
            "  (lstm): LSTM(400, 512, num_layers=2, batch_first=True, dropout=0.5)\n",
            "  (dropout): Dropout(p=0.2, inplace=False)\n",
            "  (fc): Linear(in_features=512, out_features=1, bias=True)\n",
            "  (sigmoid): Sigmoid()\n",
            ")\n"
          ],
          "name": "stdout"
        }
      ]
    },
    {
      "cell_type": "code",
      "metadata": {
        "id": "Vuq7TWtKCk1C"
      },
      "source": [
        "def process_custom(text):\n",
        "  global MAX_LEN\n",
        "  sequence = process_sequence(text.split())\n",
        "  # quick pre-padding\n",
        "  sequence = [0]*(MAX_LEN - len(sequence)) + sequence\n",
        "  return torch.unsqueeze(torch.from_numpy(np.array(sequence)), 0)"
      ],
      "execution_count": 28,
      "outputs": []
    },
    {
      "cell_type": "code",
      "metadata": {
        "id": "uw81g4M6VokI"
      },
      "source": [
        "def make_prediction(review, show_tensfor_shape=False):\n",
        "\n",
        "  label_dict={0:\"negative\", 1:\"positive\"}\n",
        "\n",
        "  custom_review_tensor = process_custom(review)\n",
        "  test_h = model.init_hidden(1)\n",
        "  out, test_h = model(custom_review_tensor.to(device), test_h)\n",
        "\n",
        "  if show_tensfor_shape == True:\n",
        "    print(custom_review_tensor)\n",
        "  \n",
        "  rounded_pred = torch.round(out)\n",
        "\n",
        "  print(\"Exact calculation:\", out)\n",
        "  print(\"\\nPrediction: {}. Representing a {} review.\".format(int(rounded_pred), label_dict[int(rounded_pred)]))\n",
        "  #return rounded_pred"
      ],
      "execution_count": 56,
      "outputs": []
    },
    {
      "cell_type": "markdown",
      "metadata": {
        "id": "20nTsJMfbNs5"
      },
      "source": [
        "## Testing multiple types of reviews"
      ]
    },
    {
      "cell_type": "markdown",
      "metadata": {
        "id": "qJWZuQNwbXe9"
      },
      "source": [
        "### Negative reviews"
      ]
    },
    {
      "cell_type": "code",
      "metadata": {
        "id": "LQB18paLLZf7",
        "colab": {
          "base_uri": "https://localhost:8080/"
        },
        "outputId": "c2760340-6fb4-4e66-969c-7f3117217ecc"
      },
      "source": [
        "negative_review = 'This product is the worst! I would not recommend buying it at all. A fucking mess.'\n",
        "\n",
        "make_prediction(negative_review)"
      ],
      "execution_count": 57,
      "outputs": [
        {
          "output_type": "stream",
          "text": [
            "Exact calculation: tensor([0.1534], device='cuda:0', grad_fn=<SelectBackward>)\n",
            "\n",
            "Prediction: 0. Representing a negative review.\n"
          ],
          "name": "stdout"
        }
      ]
    },
    {
      "cell_type": "markdown",
      "metadata": {
        "id": "-mgDF3mmbTD6"
      },
      "source": [
        "### Positive rewiews"
      ]
    },
    {
      "cell_type": "code",
      "metadata": {
        "id": "QbqPCIt6ROcn",
        "colab": {
          "base_uri": "https://localhost:8080/"
        },
        "outputId": "f720cf5f-3eb4-45c5-9136-23560c57afe5"
      },
      "source": [
        "positive_review = 'The product is of good quality overall. However, some things could be improved. But it is a nice buy.'\n",
        "\n",
        "# Showing the encoded, padded review as a tensor. \"0\" represents PADDING.\n",
        "make_prediction(positive_review, True)"
      ],
      "execution_count": 59,
      "outputs": [
        {
          "output_type": "stream",
          "text": [
            "tensor([[  0,   0,   0,   0,   0,   0,   0,   0,   0,   0,   0,   0,   0,   0,\n",
            "           0,   0,   0,   0,   0,   0,   0,   0,   0,   0,   0,   0,   0,   0,\n",
            "           0,   0,   0,   0,   0,   0,   0,   0,   0,   0,   0,   0,   0,   0,\n",
            "           0,   0,   0,   0,   0,   0,   0,   0,   0,   0,   0,   0,   0,   0,\n",
            "           0,   0,   0,   0,   0,   0,   0,   0,   0,   0,   0,   0,   0,   0,\n",
            "           0,   0,   0,   0,   0,   0,   0,   0,   0,   0,   0,   0,   0,   0,\n",
            "           0,   0,   0,   0,   0,   0,   0,   0,   0,   0,   0,   0,   0,   0,\n",
            "           0,   0,   0,   0,   0,   0,   0,   0,   0,   0,   0,   0,   0,   0,\n",
            "           0,   0,   0,   0,   0,   0,   0,   0,   0,   0,   0,   0,   0,   0,\n",
            "           0,   0,   0,   0,   0,   0,   0,   0,   0,   0,   0,   0,   1,  25,\n",
            "           1,   1,   6,  63,   1,   1,   1, 139,  26,   1,   1,   1,   1,   1,\n",
            "           1, 105,   1]])\n",
            "Exact calculation: tensor([0.8077], device='cuda:0', grad_fn=<SelectBackward>)\n",
            "\n",
            "Prediction: 1. Representing a positive review.\n"
          ],
          "name": "stdout"
        }
      ]
    },
    {
      "cell_type": "markdown",
      "metadata": {
        "id": "6t1azXHMYxfH"
      },
      "source": [
        "### Similar to neutral or confusing reviews\n",
        "If we test with more confusing or neutral reviews we can see how the model is able to middle out the calculated prediction to around 0.5 (In the middle between positive and negative)."
      ]
    },
    {
      "cell_type": "code",
      "metadata": {
        "colab": {
          "base_uri": "https://localhost:8080/"
        },
        "id": "JRTRzjE3YH-j",
        "outputId": "32976a32-1c67-4da3-c4b3-aad5212347dc"
      },
      "source": [
        "neutral_review = 'The latest marvel comic was not as good as I expected, however this movie ended up being much better than I thought. You should give it a try.'\n",
        "\n",
        "# See that the calculated prediction is around 0.45 and 0.5\n",
        "make_prediction(neutral_review)"
      ],
      "execution_count": 62,
      "outputs": [
        {
          "output_type": "stream",
          "text": [
            "Exact calculation: tensor([0.4668], device='cuda:0', grad_fn=<SelectBackward>)\n",
            "\n",
            "Prediction: 0. Representing a negative review.\n"
          ],
          "name": "stdout"
        }
      ]
    },
    {
      "cell_type": "markdown",
      "metadata": {
        "id": "x35iadK6cI_c"
      },
      "source": [
        "# Confusion matrix"
      ]
    },
    {
      "cell_type": "code",
      "metadata": {
        "colab": {
          "base_uri": "https://localhost:8080/"
        },
        "id": "jVDHWpErd8M-",
        "outputId": "b0434b86-a79f-4cdc-b90b-de8c0b95716a"
      },
      "source": [
        "# The data as pytorch tensors, including the reviews and the labels\n",
        "print(test_data.tensors)\n",
        "\n",
        "# Only the labels \n",
        "print(\"\\n\\nOnly the labels:\", test_data.tensors[1])"
      ],
      "execution_count": 84,
      "outputs": [
        {
          "output_type": "stream",
          "text": [
            "(tensor([[    0,     0,     0,  ...,    66,  1009,  1247],\n",
            "        [    0,     0,     0,  ...,   436,     6,     3],\n",
            "        [    0,     0,     0,  ...,  3225,   182,    58],\n",
            "        ...,\n",
            "        [    0,     0,     0,  ...,    74,   129,   452],\n",
            "        [    0,     0,     0,  ..., 21885, 27547,  2507],\n",
            "        [    0,     0,     0,  ...,   155,   660,    77]], dtype=torch.int32), tensor([1, 1, 1,  ..., 0, 0, 0]))\n",
            "\n",
            "\n",
            "Only the labels: tensor([1, 1, 1,  ..., 0, 0, 0])\n"
          ],
          "name": "stdout"
        }
      ]
    },
    {
      "cell_type": "code",
      "metadata": {
        "colab": {
          "base_uri": "https://localhost:8080/"
        },
        "id": "e4N_ei-diRrF",
        "outputId": "dded0772-9b47-4126-ced3-ec19949f69e9"
      },
      "source": [
        "test_losses = []\n",
        "num_correct = 0\n",
        "h = model.init_hidden(batch_size)\n",
        "y_pred = []\n",
        "y_true = []\n",
        "\n",
        "model.eval()\n",
        "for inputs, labels in test_loader:\n",
        "    h = tuple([each.data for each in h])\n",
        "    inputs, labels = inputs.to(device), labels.to(device)\n",
        "    output, h = model(inputs, h)\n",
        "    test_loss = criterion(output.squeeze(), labels.float())\n",
        "    test_losses.append(test_loss.item())\n",
        "    pred = torch.round(output.squeeze()) #rounds the output to 0/1´\n",
        "    correct_tensor = pred.eq(labels.float().view_as(pred))\n",
        "    correct = np.squeeze(correct_tensor.cpu().numpy())\n",
        "    num_correct += np.sum(correct)\n",
        "\n",
        "    y_pred.extend(pred.tolist())\n",
        "    y_true.extend(labels.tolist())\n",
        "        \n",
        "print(\"Test loss: {:.3f}\".format(np.mean(test_losses)))\n",
        "test_acc = num_correct/len(test_loader.dataset)\n",
        "print(\"Test accuracy: {:.3f}%\".format(test_acc*100))"
      ],
      "execution_count": 98,
      "outputs": [
        {
          "output_type": "stream",
          "text": [
            "Test loss: 0.256\n",
            "Test accuracy: 89.515%\n"
          ],
          "name": "stdout"
        }
      ]
    },
    {
      "cell_type": "code",
      "metadata": {
        "colab": {
          "base_uri": "https://localhost:8080/"
        },
        "id": "vEevc_4Ejnar",
        "outputId": "0b9b51c5-9f30-4973-ebdc-0a4190fb7692"
      },
      "source": [
        "print(len(y_true), len(y_pred))"
      ],
      "execution_count": 111,
      "outputs": [
        {
          "output_type": "stream",
          "text": [
            "49664 49664\n"
          ],
          "name": "stdout"
        }
      ]
    },
    {
      "cell_type": "code",
      "metadata": {
        "colab": {
          "base_uri": "https://localhost:8080/"
        },
        "id": "_1SuXCUHlimT",
        "outputId": "f095bb69-74e3-431c-bd10-676b77db48d1"
      },
      "source": [
        "cm = confusion_matrix(y_true, y_pred)\n",
        "print(type(cm))\n",
        "cm"
      ],
      "execution_count": 108,
      "outputs": [
        {
          "output_type": "stream",
          "text": [
            "<class 'numpy.ndarray'>\n"
          ],
          "name": "stdout"
        },
        {
          "output_type": "execute_result",
          "data": {
            "text/plain": [
              "array([[22227,  2739],\n",
              "       [ 2420, 22278]])"
            ]
          },
          "metadata": {
            "tags": []
          },
          "execution_count": 108
        }
      ]
    },
    {
      "cell_type": "code",
      "metadata": {
        "colab": {
          "base_uri": "https://localhost:8080/",
          "height": 312
        },
        "id": "9EArL5D1mAsV",
        "outputId": "06b7892f-477f-4ba6-f0bb-5cda2d2b8d2d"
      },
      "source": [
        "ax= plt.subplot()\n",
        "sns.heatmap(cm, annot=True, ax = ax, cmap='Blues', fmt=\"d\")\n",
        "\n",
        "ax.set_title('Confusion Matrix')\n",
        "\n",
        "ax.set_xlabel('Predicted Labels')\n",
        "ax.set_ylabel('True Labels')\n",
        "\n",
        "ax.xaxis.set_ticklabels(['FAKE', 'REAL'])\n",
        "ax.yaxis.set_ticklabels(['FAKE', 'REAL'])\n",
        "\n",
        "print()"
      ],
      "execution_count": 131,
      "outputs": [
        {
          "output_type": "stream",
          "text": [
            "\n"
          ],
          "name": "stdout"
        },
        {
          "output_type": "display_data",
          "data": {
            "image/png": "[encoded data removed]",
            "text/plain": [
              "<Figure size 432x288 with 2 Axes>"
            ]
          },
          "metadata": {
            "tags": [],
            "needs_background": "light"
          }
        }
      ]
    },
    {
      "cell_type": "markdown",
      "metadata": {
        "id": "uP278q9roOas"
      },
      "source": [
        "# Evaluation\n",
        "We will use the F1-score evaluation method using scikit learn, as well as calculating it manually as we learned in the labs."
      ]
    },
    {
      "cell_type": "markdown",
      "metadata": {
        "id": "QihzvQwmodg6"
      },
      "source": [
        "## Scikit-learn classification report"
      ]
    },
    {
      "cell_type": "code",
      "metadata": {
        "colab": {
          "base_uri": "https://localhost:8080/"
        },
        "id": "Q_bVVNqJmldh",
        "outputId": "dac11c64-579f-4fd3-93e9-7bf58279693a"
      },
      "source": [
        "print('Classification Report:')\n",
        "print(classification_report(y_true, y_pred, labels=[1,0], digits=4))"
      ],
      "execution_count": 132,
      "outputs": [
        {
          "output_type": "stream",
          "text": [
            "Classification Report:\n",
            "              precision    recall  f1-score   support\n",
            "\n",
            "           1     0.8905    0.9020    0.8962     24698\n",
            "           0     0.9018    0.8903    0.8960     24966\n",
            "\n",
            "    accuracy                         0.8961     49664\n",
            "   macro avg     0.8962    0.8962    0.8961     49664\n",
            "weighted avg     0.8962    0.8961    0.8961     49664\n",
            "\n"
          ],
          "name": "stdout"
        }
      ]
    },
    {
      "cell_type": "markdown",
      "metadata": {
        "id": "TtzH0-7Voh0M"
      },
      "source": [
        "## Own manual classification report"
      ]
    },
    {
      "cell_type": "code",
      "metadata": {
        "id": "XvJ4uiaYog6s"
      },
      "source": [
        "def f_score(gold, predicted):\n",
        "    from sklearn.metrics import precision_recall_fscore_support\n",
        "    d = {}\n",
        "    cm=confusion_matrix(gold,predicted)\n",
        "    FP = cm.sum(axis=0) - np.diag(cm)  \n",
        "    FN = cm.sum(axis=1) - np.diag(cm)\n",
        "    TP = np.diag(cm)\n",
        "    TN = cm.sum() - (FP + FN + TP)\n",
        "\n",
        "    # Sensitivity, hit rate, recall, or true positive rate\n",
        "    TPR = TP/(TP+FN)\n",
        "    # Specificity or true negative rate\n",
        "    TNR = TN/(TN+FP) \n",
        "    # Precision or positive predictive value\n",
        "    PPV = TP/(TP+FP)\n",
        "    # Negative predictive value\n",
        "    NPV = TN/(TN+FN)\n",
        "    # Fall out or false positive rate\n",
        "    FPR = FP/(FP+TN)\n",
        "    # False negative rate\n",
        "    FNR = FN/(TP+FN)\n",
        "    # False discovery rate\n",
        "    FDR = FP/(TP+FP)\n",
        "\n",
        "    # Overall accuracy\n",
        "    ACC = (TP+TN)/(TP+FP+FN+TN)\n",
        "    # F-Measure = (2 * Precision * Recall) / (Precision + Recall)\n",
        "    f = (2 * PPV * TPR) / (PPV + TPR)\n",
        "    #print(TP, FP, FN)\n",
        "    #print(TPR, PPV)\n",
        "    micro = precision_recall_fscore_support(gold, predicted, average='micro')\n",
        "    macro = precision_recall_fscore_support(gold, predicted, average='macro')\n",
        "    for i in range(2):\n",
        "      #print(i)\n",
        "      d[i]= {'tp':TP[i], 'fp':FP[i], 'fn':FN[i], 'precision': PPV[i], 'recall': TPR[i], 'f': f[i]}\n",
        "    \n",
        "    d['MICRO AVG'] = {'precision': micro[0], 'recall': micro[1], 'f': micro[2]}\n",
        "    d['MACRO AVG'] = {'precision': macro[0], 'recall': macro[1], 'f': macro[2]}\n",
        "\n",
        "    return d"
      ],
      "execution_count": 137,
      "outputs": []
    },
    {
      "cell_type": "code",
      "metadata": {
        "colab": {
          "base_uri": "https://localhost:8080/"
        },
        "id": "3kwxE1QIozHD",
        "outputId": "8bedd2b6-802a-4c6a-bd44-a31d08f7b288"
      },
      "source": [
        "f_score(y_true, y_pred)"
      ],
      "execution_count": 138,
      "outputs": [
        {
          "output_type": "execute_result",
          "data": {
            "text/plain": [
              "{0: {'f': 0.8960151573176386,\n",
              "  'fn': 2739,\n",
              "  'fp': 2420,\n",
              "  'precision': 0.9018136081470361,\n",
              "  'recall': 0.8902907954818553,\n",
              "  'tp': 22227},\n",
              " 1: {'f': 0.8962285024640451,\n",
              "  'fn': 2420,\n",
              "  'fp': 2739,\n",
              "  'precision': 0.8905144501738818,\n",
              "  'recall': 0.9020163575998057,\n",
              "  'tp': 22278},\n",
              " 'MACRO AVG': {'f': 0.8961218298908418,\n",
              "  'precision': 0.8961640291604589,\n",
              "  'recall': 0.8961535765408305},\n",
              " 'MICRO AVG': {'f': 0.8961219394329897,\n",
              "  'precision': 0.8961219394329897,\n",
              "  'recall': 0.8961219394329897}}"
            ]
          },
          "metadata": {
            "tags": []
          },
          "execution_count": 138
        }
      ]
    },
    {
      "cell_type": "markdown",
      "metadata": {
        "id": "kK6nNGo-paTP"
      },
      "source": [
        "# Extra: trying a Machine Learning model\n",
        "## RandomForestClassifier"
      ]
    },
    {
      "cell_type": "code",
      "metadata": {
        "colab": {
          "base_uri": "https://localhost:8080/"
        },
        "id": "tHZoTUwqqwui",
        "outputId": "c8cd6cfe-2210-4781-9f43-fc2f6cd67313"
      },
      "source": [
        "X_train"
      ],
      "execution_count": 146,
      "outputs": [
        {
          "output_type": "execute_result",
          "data": {
            "text/plain": [
              "array([[    0,     0,     0, ...,   187,  6088,   156],\n",
              "       [    0,     0,     0, ..., 11687, 33563,     3],\n",
              "       [    0,     0,     0, ...,  1019,  3085,   623],\n",
              "       ...,\n",
              "       [    0,     0,     0, ...,  7010,  7102,   149],\n",
              "       [    0,     0,     0, ...,     8,   578,   492],\n",
              "       [    0,     0,     0, ...,    21,   655, 84590]], dtype=int32)"
            ]
          },
          "metadata": {
            "tags": []
          },
          "execution_count": 146
        }
      ]
    },
    {
      "cell_type": "code",
      "metadata": {
        "colab": {
          "base_uri": "https://localhost:8080/"
        },
        "id": "EGKC_Kjopcmj",
        "outputId": "9763a7a2-46f6-4565-ffcd-9931fb1bcb91"
      },
      "source": [
        "from sklearn.feature_extraction.text import CountVectorizer \n",
        "from sklearn.feature_extraction.text import TfidfTransformer\n",
        "from sklearn.naive_bayes import MultinomialNB\n",
        "\n",
        "from sklearn.ensemble import RandomForestClassifier\n",
        "\n",
        "from wordcloud import STOPWORDS\n",
        "\n",
        "from sklearn.feature_extraction.text import TfidfTransformer\n",
        "from sklearn.feature_extraction.text import CountVectorizer\n",
        "stopwords = set(STOPWORDS)\n",
        "stopwords.remove(\"not\")\n",
        "\n",
        "\n",
        "# df_balanced.cleaned_text\n",
        "\n",
        "split = df_balanced[[\"cleaned_text\" , \"target\"]]\n",
        "train_nb =split.sample(frac=0.8,random_state=1)\n",
        "test_nb =split.drop(train_nb.index)\n",
        "\n",
        "count_vect = CountVectorizer(min_df=2 ,stop_words=stopwords , ngram_range=(1,2))\n",
        "tfidf_transformer = TfidfTransformer()\n",
        "\n",
        "X_train_counts = count_vect.fit_transform(train_nb[\"cleaned_text\"])        \n",
        "X_train_tfidf = tfidf_transformer.fit_transform(X_train_counts)\n",
        "\n",
        "\n",
        "X_new_counts = count_vect.transform(test_nb[\"cleaned_text\"])\n",
        "X_test_tfidf = tfidf_transformer.transform(X_new_counts)"
      ],
      "execution_count": 156,
      "outputs": [
        {
          "output_type": "stream",
          "text": [
            "/usr/local/lib/python3.7/dist-packages/sklearn/feature_extraction/text.py:385: UserWarning: Your stop_words may be inconsistent with your preprocessing. Tokenizing the stop words generated tokens ['aren', 'couldn', 'didn', 'doesn', 'don', 'hadn', 'hasn', 'haven', 'isn', 'let', 'll', 'mustn', 're', 'shan', 'shouldn', 've', 'wasn', 'weren', 'won', 'wouldn'] not in stop_words.\n",
            "  'stop_words.' % sorted(inconsistent))\n"
          ],
          "name": "stderr"
        }
      ]
    },
    {
      "cell_type": "code",
      "metadata": {
        "colab": {
          "base_uri": "https://localhost:8080/"
        },
        "id": "iYlYUmQQsZIO",
        "outputId": "36584203-4da6-4efc-f9ad-88564463cc63"
      },
      "source": [
        "from sklearn.naive_bayes import MultinomialNB\n",
        "\n",
        "prediction =  {}\n",
        "model1 = MultinomialNB().fit(X_train_tfidf , train_nb[\"target\"])\n",
        "prediction['Multinomial'] = model1.predict_proba(X_test_tfidf)[:,1]\n",
        "print(\"Multinomial Accuracy : {}\".format(model1.score(X_test_tfidf , test_nb[\"target\"])))"
      ],
      "execution_count": 159,
      "outputs": [
        {
          "output_type": "stream",
          "text": [
            "Multinomial Accuracy : 0.8792678634283703\n"
          ],
          "name": "stdout"
        }
      ]
    }
  ]
}